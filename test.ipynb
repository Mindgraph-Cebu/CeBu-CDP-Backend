{
 "cells": [
  {
   "cell_type": "code",
   "execution_count": 10,
   "metadata": {},
   "outputs": [],
   "source": [
    "import pandas as pd\n",
    "import duckdb\n"
   ]
  },
  {
   "cell_type": "code",
   "execution_count": 11,
   "metadata": {},
   "outputs": [],
   "source": [
    "db = duckdb.connect(':memory:')"
   ]
  },
  {
   "cell_type": "code",
   "execution_count": null,
   "metadata": {},
   "outputs": [],
   "source": [
    "g.db.execute(\"DROP TABLE IF EXISTS cdp_milestones\")\n",
    "g.db.execute(\"CREATE TEMPORARY TABLE cdp_milestones AS SELECT * FROM read_parquet('../profiles/index_milestone/*.parquet')\")\n",
    "milestone_df = g.db.execute(\"SELECT * FROM cdp_milestones\").df()\n",
    "milestone_dict = milestone_df.to_dict()\n",
    "milestone_dict = {key: value[0] for key, value in milestone_dict.items()}\n",
    "milestone_dict[\"passengers\"] = milestone_dict[\"customers\"]\n",
    "del milestone_dict[\"customers\"]\n",
    "json_data = json.dumps(milestone_dict, sort_keys=False)\n",
    "return Response(json_data, content_type='application/json')"
   ]
  },
  {
   "cell_type": "code",
   "execution_count": 29,
   "metadata": {},
   "outputs": [],
   "source": [
    "data = duckdb.execute(\"SELECT * FROM read_parquet('./data/index_milestone.parquet')\").fetch_df().to_dict()"
   ]
  },
  {
   "cell_type": "code",
   "execution_count": 30,
   "metadata": {},
   "outputs": [],
   "source": [
    "data = {key: value[0] for key, value in duckdb.execute(\"SELECT * FROM read_parquet('./data/index_milestone.parquet')\").fetch_df().to_dict().items()}"
   ]
  },
  {
   "cell_type": "code",
   "execution_count": 31,
   "metadata": {},
   "outputs": [
    {
     "data": {
      "text/plain": [
       "{'customers': 60791335,\n",
       " 'journeys': 213685215,\n",
       " 'bookers': 2566868,\n",
       " 'bookings': 111348455}"
      ]
     },
     "execution_count": 31,
     "metadata": {},
     "output_type": "execute_result"
    }
   ],
   "source": [
    "data"
   ]
  },
  {
   "cell_type": "code",
   "execution_count": 23,
   "metadata": {},
   "outputs": [],
   "source": [
    "milestone_dict = {key: value[0] for key, value in data.items()}"
   ]
  },
  {
   "cell_type": "code",
   "execution_count": 25,
   "metadata": {},
   "outputs": [
    {
     "data": {
      "text/plain": [
       "{'journeys': 213685215,\n",
       " 'bookers': 2566868,\n",
       " 'bookings': 111348455,\n",
       " 'passengers': 60791335}"
      ]
     },
     "execution_count": 25,
     "metadata": {},
     "output_type": "execute_result"
    }
   ],
   "source": [
    "milestone_dict['passengers'] = milestone_dict.pop('customers')\n",
    "milestone_dict"
   ]
  },
  {
   "cell_type": "code",
   "execution_count": 32,
   "metadata": {},
   "outputs": [],
   "source": [
    "df = pd.read_parquet('./data/passenger.parquet')"
   ]
  },
  {
   "cell_type": "code",
   "execution_count": 33,
   "metadata": {},
   "outputs": [
    {
     "data": {
      "text/html": [
       "<div>\n",
       "<style scoped>\n",
       "    .dataframe tbody tr th:only-of-type {\n",
       "        vertical-align: middle;\n",
       "    }\n",
       "\n",
       "    .dataframe tbody tr th {\n",
       "        vertical-align: top;\n",
       "    }\n",
       "\n",
       "    .dataframe thead th {\n",
       "        text-align: right;\n",
       "    }\n",
       "</style>\n",
       "<table border=\"1\" class=\"dataframe\">\n",
       "  <thead>\n",
       "    <tr style=\"text-align: right;\">\n",
       "      <th></th>\n",
       "      <th>passenger_hash</th>\n",
       "      <th>FirstName</th>\n",
       "      <th>MiddleName</th>\n",
       "      <th>LastName</th>\n",
       "      <th>HonorificPrefix</th>\n",
       "      <th>HonorificSuffix</th>\n",
       "      <th>EmailAddress</th>\n",
       "      <th>Phone</th>\n",
       "      <th>Gender</th>\n",
       "      <th>ProvisionalPrimaryKey</th>\n",
       "      <th>...</th>\n",
       "      <th>BookingCurrency_separator_PGK</th>\n",
       "      <th>BookingCurrency_separator_XXX</th>\n",
       "      <th>IsRegistered_separator_No</th>\n",
       "      <th>IsRegistered_separator_Yes</th>\n",
       "      <th>TravelSoloOrGroup_separator_Group</th>\n",
       "      <th>TravelSoloOrGroup_separator_Solo</th>\n",
       "      <th>TravelOrigin</th>\n",
       "      <th>TravelDestination</th>\n",
       "      <th>TravelSeat</th>\n",
       "      <th>Details</th>\n",
       "    </tr>\n",
       "  </thead>\n",
       "  <tbody>\n",
       "    <tr>\n",
       "      <th>0</th>\n",
       "      <td>0024cfe6698617fc7ba69c9e04e00766</td>\n",
       "      <td>YuanJi</td>\n",
       "      <td></td>\n",
       "      <td>Qing</td>\n",
       "      <td>MR</td>\n",
       "      <td></td>\n",
       "      <td>Unknown</td>\n",
       "      <td>Unknown</td>\n",
       "      <td>1</td>\n",
       "      <td>217011639_9</td>\n",
       "      <td>...</td>\n",
       "      <td>0</td>\n",
       "      <td>0</td>\n",
       "      <td>1</td>\n",
       "      <td>0</td>\n",
       "      <td>1</td>\n",
       "      <td>0</td>\n",
       "      <td>{\"Unknown\": 1}</td>\n",
       "      <td>{\"Unknown\": 1}</td>\n",
       "      <td>{\"Unknown\": 1}</td>\n",
       "      <td>{\"0\": {\"insurance\": \"OW Travel Insurance \", \"r...</td>\n",
       "    </tr>\n",
       "    <tr>\n",
       "      <th>1</th>\n",
       "      <td>0027502cb8a9b0c390f9d21f37eeda4c</td>\n",
       "      <td>Ruchell Angelo</td>\n",
       "      <td></td>\n",
       "      <td>Suficiencia</td>\n",
       "      <td>MR</td>\n",
       "      <td></td>\n",
       "      <td>Unknown</td>\n",
       "      <td>Unknown</td>\n",
       "      <td>1</td>\n",
       "      <td>110668787_806631</td>\n",
       "      <td>...</td>\n",
       "      <td>0</td>\n",
       "      <td>0</td>\n",
       "      <td>2</td>\n",
       "      <td>0</td>\n",
       "      <td>2</td>\n",
       "      <td>0</td>\n",
       "      <td>{\"Unknown\": 1, \"ZAM\": 1}</td>\n",
       "      <td>{\"Unknown\": 1, \"DVO\": 1}</td>\n",
       "      <td>{\"Unknown\": 1, \"18B\": 1}</td>\n",
       "      <td>{\"0\": {\"insurance\": \"None\", \"revenue\": \"0.0\", ...</td>\n",
       "    </tr>\n",
       "    <tr>\n",
       "      <th>2</th>\n",
       "      <td>00333d4461affe870c75f60a5d226386</td>\n",
       "      <td>Roselyn P</td>\n",
       "      <td></td>\n",
       "      <td>Dagdagen</td>\n",
       "      <td>MS</td>\n",
       "      <td></td>\n",
       "      <td>Unknown</td>\n",
       "      <td>Unknown</td>\n",
       "      <td>2</td>\n",
       "      <td>259836144_7595771</td>\n",
       "      <td>...</td>\n",
       "      <td>0</td>\n",
       "      <td>0</td>\n",
       "      <td>1</td>\n",
       "      <td>0</td>\n",
       "      <td>0</td>\n",
       "      <td>1</td>\n",
       "      <td>{\"MNL\": 1}</td>\n",
       "      <td>{\"BSO_MNL\": 1}</td>\n",
       "      <td>{\"4D_19B\": 1}</td>\n",
       "      <td>{\"0\": {\"insurance\": \"None\", \"revenue\": \"15917....</td>\n",
       "    </tr>\n",
       "    <tr>\n",
       "      <th>3</th>\n",
       "      <td>0033c7af9d0178e8e40c797eb47310e2</td>\n",
       "      <td>QinYi</td>\n",
       "      <td></td>\n",
       "      <td>Kuang</td>\n",
       "      <td>MS</td>\n",
       "      <td></td>\n",
       "      <td>Unknown</td>\n",
       "      <td>Unknown</td>\n",
       "      <td>2</td>\n",
       "      <td>200732033_9</td>\n",
       "      <td>...</td>\n",
       "      <td>0</td>\n",
       "      <td>0</td>\n",
       "      <td>1</td>\n",
       "      <td>0</td>\n",
       "      <td>1</td>\n",
       "      <td>0</td>\n",
       "      <td>{\"Unknown\": 1}</td>\n",
       "      <td>{\"Unknown\": 1}</td>\n",
       "      <td>{\"Unknown\": 1}</td>\n",
       "      <td>{\"0\": {\"insurance\": \"OW Travel Insurance \", \"r...</td>\n",
       "    </tr>\n",
       "    <tr>\n",
       "      <th>4</th>\n",
       "      <td>003af2f28b3fe2ba76e8b032eace6d43</td>\n",
       "      <td>Steave C.</td>\n",
       "      <td>Unknown</td>\n",
       "      <td>Caballes</td>\n",
       "      <td>MR</td>\n",
       "      <td>Unknown</td>\n",
       "      <td>Unknown</td>\n",
       "      <td>Unknown</td>\n",
       "      <td>1</td>\n",
       "      <td>324647292_638341</td>\n",
       "      <td>...</td>\n",
       "      <td>0</td>\n",
       "      <td>0</td>\n",
       "      <td>2</td>\n",
       "      <td>0</td>\n",
       "      <td>2</td>\n",
       "      <td>0</td>\n",
       "      <td>{\"MNL\": 1, \"CEB\": 1}</td>\n",
       "      <td>{\"DGT\": 1, \"MNL\": 1}</td>\n",
       "      <td>{\"Unknown\": 1, \"21D\": 1}</td>\n",
       "      <td>{\"0\": {\"insurance\": \"None\", \"revenue\": \"1989.7...</td>\n",
       "    </tr>\n",
       "  </tbody>\n",
       "</table>\n",
       "<p>5 rows × 111 columns</p>\n",
       "</div>"
      ],
      "text/plain": [
       "                     passenger_hash       FirstName MiddleName     LastName  \\\n",
       "0  0024cfe6698617fc7ba69c9e04e00766          YuanJi                    Qing   \n",
       "1  0027502cb8a9b0c390f9d21f37eeda4c  Ruchell Angelo             Suficiencia   \n",
       "2  00333d4461affe870c75f60a5d226386       Roselyn P                Dagdagen   \n",
       "3  0033c7af9d0178e8e40c797eb47310e2           QinYi                   Kuang   \n",
       "4  003af2f28b3fe2ba76e8b032eace6d43       Steave C.    Unknown     Caballes   \n",
       "\n",
       "  HonorificPrefix HonorificSuffix EmailAddress    Phone Gender  \\\n",
       "0              MR                      Unknown  Unknown      1   \n",
       "1              MR                      Unknown  Unknown      1   \n",
       "2              MS                      Unknown  Unknown      2   \n",
       "3              MS                      Unknown  Unknown      2   \n",
       "4              MR         Unknown      Unknown  Unknown      1   \n",
       "\n",
       "  ProvisionalPrimaryKey  ... BookingCurrency_separator_PGK  \\\n",
       "0           217011639_9  ...                             0   \n",
       "1      110668787_806631  ...                             0   \n",
       "2     259836144_7595771  ...                             0   \n",
       "3           200732033_9  ...                             0   \n",
       "4      324647292_638341  ...                             0   \n",
       "\n",
       "  BookingCurrency_separator_XXX IsRegistered_separator_No  \\\n",
       "0                             0                         1   \n",
       "1                             0                         2   \n",
       "2                             0                         1   \n",
       "3                             0                         1   \n",
       "4                             0                         2   \n",
       "\n",
       "  IsRegistered_separator_Yes TravelSoloOrGroup_separator_Group  \\\n",
       "0                          0                                 1   \n",
       "1                          0                                 2   \n",
       "2                          0                                 0   \n",
       "3                          0                                 1   \n",
       "4                          0                                 2   \n",
       "\n",
       "  TravelSoloOrGroup_separator_Solo              TravelOrigin  \\\n",
       "0                                0            {\"Unknown\": 1}   \n",
       "1                                0  {\"Unknown\": 1, \"ZAM\": 1}   \n",
       "2                                1                {\"MNL\": 1}   \n",
       "3                                0            {\"Unknown\": 1}   \n",
       "4                                0      {\"MNL\": 1, \"CEB\": 1}   \n",
       "\n",
       "          TravelDestination                TravelSeat  \\\n",
       "0            {\"Unknown\": 1}            {\"Unknown\": 1}   \n",
       "1  {\"Unknown\": 1, \"DVO\": 1}  {\"Unknown\": 1, \"18B\": 1}   \n",
       "2            {\"BSO_MNL\": 1}             {\"4D_19B\": 1}   \n",
       "3            {\"Unknown\": 1}            {\"Unknown\": 1}   \n",
       "4      {\"DGT\": 1, \"MNL\": 1}  {\"Unknown\": 1, \"21D\": 1}   \n",
       "\n",
       "                                             Details  \n",
       "0  {\"0\": {\"insurance\": \"OW Travel Insurance \", \"r...  \n",
       "1  {\"0\": {\"insurance\": \"None\", \"revenue\": \"0.0\", ...  \n",
       "2  {\"0\": {\"insurance\": \"None\", \"revenue\": \"15917....  \n",
       "3  {\"0\": {\"insurance\": \"OW Travel Insurance \", \"r...  \n",
       "4  {\"0\": {\"insurance\": \"None\", \"revenue\": \"1989.7...  \n",
       "\n",
       "[5 rows x 111 columns]"
      ]
     },
     "execution_count": 33,
     "metadata": {},
     "output_type": "execute_result"
    }
   ],
   "source": [
    "df = df[\"FirstName\",\"LastName\",\"passenger_hash\",\"Phone\",\"Date\"]"
   ]
  },
  {
   "cell_type": "code",
   "execution_count": 2,
   "metadata": {},
   "outputs": [
    {
     "name": "stdout",
     "output_type": "stream",
     "text": [
      "[2, 3, 4, 5, 6]\n"
     ]
    }
   ],
   "source": [
    "check = [1,2,3,4,5,6]\n",
    "\n",
    "check.remove(1)\n",
    "\n",
    "print(check)"
   ]
  }
 ],
 "metadata": {
  "kernelspec": {
   "display_name": "api",
   "language": "python",
   "name": "python3"
  },
  "language_info": {
   "codemirror_mode": {
    "name": "ipython",
    "version": 3
   },
   "file_extension": ".py",
   "mimetype": "text/x-python",
   "name": "python",
   "nbconvert_exporter": "python",
   "pygments_lexer": "ipython3",
   "version": "3.9.13"
  }
 },
 "nbformat": 4,
 "nbformat_minor": 2
}
