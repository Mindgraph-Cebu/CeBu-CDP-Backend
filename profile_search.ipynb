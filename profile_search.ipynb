{
 "cells": [
  {
   "cell_type": "code",
   "execution_count": 2,
   "metadata": {},
   "outputs": [],
   "source": [
    "import duckdb\n",
    "import json\n",
    "import pandas as pd\n"
   ]
  },
  {
   "cell_type": "code",
   "execution_count": 21,
   "metadata": {},
   "outputs": [
    {
     "name": "stdout",
     "output_type": "stream",
     "text": [
      "CREATE TEMPORARY TABLE cdp_profile AS SELECT passenger_hash,firstname,lastname,phone,emailaddress FROM read_parquet('profiles/passenger_details/*.parquet') WHERE firstname like ('Yves') and lastname like ('Kangleon') and phone like ('21212')  limit 50\n"
     ]
    },
    {
     "ename": "KeyError",
     "evalue": "0",
     "output_type": "error",
     "traceback": [
      "\u001b[1;31m---------------------------------------------------------------------------\u001b[0m",
      "\u001b[1;31mKeyError\u001b[0m                                  Traceback (most recent call last)",
      "\u001b[1;32mc:\\Users\\pradi\\Downloads\\cdp_api\\profile_search.ipynb Cell 2\u001b[0m line \u001b[0;36m5\n\u001b[0;32m     <a href='vscode-notebook-cell:/c%3A/Users/pradi/Downloads/cdp_api/profile_search.ipynb#W1sZmlsZQ%3D%3D?line=54'>55</a>\u001b[0m df \u001b[39m=\u001b[39m conn\u001b[39m.\u001b[39mexecute(\u001b[39mf\u001b[39m\u001b[39m\"\u001b[39m\u001b[39mSELECT * FROM cdp_profile\u001b[39m\u001b[39m\"\u001b[39m)\u001b[39m.\u001b[39mdf()\n\u001b[0;32m     <a href='vscode-notebook-cell:/c%3A/Users/pradi/Downloads/cdp_api/profile_search.ipynb#W1sZmlsZQ%3D%3D?line=55'>56</a>\u001b[0m df_dict \u001b[39m=\u001b[39m df\u001b[39m.\u001b[39mto_dict()\n\u001b[1;32m---> <a href='vscode-notebook-cell:/c%3A/Users/pradi/Downloads/cdp_api/profile_search.ipynb#W1sZmlsZQ%3D%3D?line=56'>57</a>\u001b[0m df_dict \u001b[39m=\u001b[39m {key:value[\u001b[39m0\u001b[39;49m] \u001b[39mfor\u001b[39;49;00m key,value \u001b[39min\u001b[39;49;00m df_dict\u001b[39m.\u001b[39;49mitems() }\n\u001b[0;32m     <a href='vscode-notebook-cell:/c%3A/Users/pradi/Downloads/cdp_api/profile_search.ipynb#W1sZmlsZQ%3D%3D?line=57'>58</a>\u001b[0m json_data \u001b[39m=\u001b[39m json\u001b[39m.\u001b[39mdumps(df_dict, sort_keys\u001b[39m=\u001b[39m\u001b[39mFalse\u001b[39;00m)\n",
      "\u001b[1;32mc:\\Users\\pradi\\Downloads\\cdp_api\\profile_search.ipynb Cell 2\u001b[0m line \u001b[0;36m5\n\u001b[0;32m     <a href='vscode-notebook-cell:/c%3A/Users/pradi/Downloads/cdp_api/profile_search.ipynb#W1sZmlsZQ%3D%3D?line=54'>55</a>\u001b[0m df \u001b[39m=\u001b[39m conn\u001b[39m.\u001b[39mexecute(\u001b[39mf\u001b[39m\u001b[39m\"\u001b[39m\u001b[39mSELECT * FROM cdp_profile\u001b[39m\u001b[39m\"\u001b[39m)\u001b[39m.\u001b[39mdf()\n\u001b[0;32m     <a href='vscode-notebook-cell:/c%3A/Users/pradi/Downloads/cdp_api/profile_search.ipynb#W1sZmlsZQ%3D%3D?line=55'>56</a>\u001b[0m df_dict \u001b[39m=\u001b[39m df\u001b[39m.\u001b[39mto_dict()\n\u001b[1;32m---> <a href='vscode-notebook-cell:/c%3A/Users/pradi/Downloads/cdp_api/profile_search.ipynb#W1sZmlsZQ%3D%3D?line=56'>57</a>\u001b[0m df_dict \u001b[39m=\u001b[39m {key:value[\u001b[39m0\u001b[39;49m] \u001b[39mfor\u001b[39;00m key,value \u001b[39min\u001b[39;00m df_dict\u001b[39m.\u001b[39mitems() }\n\u001b[0;32m     <a href='vscode-notebook-cell:/c%3A/Users/pradi/Downloads/cdp_api/profile_search.ipynb#W1sZmlsZQ%3D%3D?line=57'>58</a>\u001b[0m json_data \u001b[39m=\u001b[39m json\u001b[39m.\u001b[39mdumps(df_dict, sort_keys\u001b[39m=\u001b[39m\u001b[39mFalse\u001b[39;00m)\n",
      "\u001b[1;31mKeyError\u001b[0m: 0"
     ]
    }
   ],
   "source": [
    "conn = duckdb.connect(database = ':memory:')\n",
    "profile_type = \"passenger\"\n",
    "\n",
    "if profile_type == \"passenger\":\n",
    "        path = \"passenger_details\"\n",
    "elif profile_type == \"booker\":\n",
    "    path = \"booker_details\"\n",
    "\n",
    "firstname = \"Yves\"\n",
    "lastname = \"Kangleon\"\n",
    "phone = 21212\n",
    "email = None\n",
    "id = None\n",
    "\n",
    "\n",
    "conn.execute(f\"DROP TABLE IF EXISTS cdp_profile\")\n",
    "\n",
    "query = f\"CREATE TEMPORARY TABLE cdp_profile AS SELECT passenger_hash,firstname,lastname,phone,emailaddress FROM read_parquet('profiles/{path}/*.parquet') WHERE \"\n",
    "\n",
    "count = 0\n",
    "\n",
    "if firstname is not None:\n",
    "    query += f\"firstname like ('{firstname}') \"\n",
    "    count += 1\n",
    "\n",
    "if id is not None:\n",
    "    query += f\"passenger_hash = '{id}'\"\n",
    "    conn.execute(query)\n",
    "    df = conn.execute(f\"SELECT * FROM cdp_profile\").df()\n",
    "    df_dict = df.to_dict()\n",
    "    # df_dict = {key:value[0] for key,value in df_dict.items() }\n",
    "    json_data = json.dumps(df_dict, sort_keys=False)\n",
    "    # return Response(json_data, content_type='application/json')\n",
    "\n",
    "\n",
    "\n",
    "if lastname is not None:\n",
    "    if count >= 1:\n",
    "        query += \"and \"\n",
    "    query += f\"lastname like ('{lastname}') \"\n",
    "\n",
    "if email is not None:\n",
    "    if count >= 1:\n",
    "        query += \"and \"\n",
    "    query += f\"emailaddress like ('{email}') \"\n",
    "\n",
    "if phone is not None:\n",
    "    if count >= 1:\n",
    "        query += \"and \"\n",
    "    query += f\"phone like ('{phone}') \"\n",
    "\n",
    "query += \" limit 50\"\n",
    "\n",
    "conn.execute(query)\n",
    "print(query)\n",
    "\n",
    "df = conn.execute(f\"SELECT * FROM cdp_profile\").df()\n",
    "df_dict = df.to_dict()\n",
    "df_dict = {key:value[0] for key,value in df_dict.items() }\n",
    "json_data = json.dumps(df_dict, sort_keys=False)\n",
    "\n",
    "\n",
    "\n"
   ]
  },
  {
   "cell_type": "code",
   "execution_count": 11,
   "metadata": {},
   "outputs": [],
   "source": [
    "conn.execute(f\"DROP TABLE IF EXISTS cdp_profile\")\n",
    "\n",
    "query = f\"CREATE TEMPORARY TABLE cdp_profile AS SELECT passenger_hash,firstname,lastname,phone,emailaddress FROM read_parquet('profiles/{path}/*.parquet') WHERE firstname like ('ryan') limit 50\"\n",
    "\n",
    "conn.execute(query)\n",
    "\n",
    "df = conn.execute(f\"SELECT * FROM cdp_profile\").df()"
   ]
  },
  {
   "cell_type": "code",
   "execution_count": 12,
   "metadata": {},
   "outputs": [
    {
     "data": {
      "text/html": [
       "<div>\n",
       "<style scoped>\n",
       "    .dataframe tbody tr th:only-of-type {\n",
       "        vertical-align: middle;\n",
       "    }\n",
       "\n",
       "    .dataframe tbody tr th {\n",
       "        vertical-align: top;\n",
       "    }\n",
       "\n",
       "    .dataframe thead th {\n",
       "        text-align: right;\n",
       "    }\n",
       "</style>\n",
       "<table border=\"1\" class=\"dataframe\">\n",
       "  <thead>\n",
       "    <tr style=\"text-align: right;\">\n",
       "      <th></th>\n",
       "      <th>passenger_hash</th>\n",
       "      <th>FirstName</th>\n",
       "      <th>LastName</th>\n",
       "      <th>Phone</th>\n",
       "      <th>EmailAddress</th>\n",
       "    </tr>\n",
       "  </thead>\n",
       "  <tbody>\n",
       "    <tr>\n",
       "      <th>0</th>\n",
       "      <td>6f9cecc6ecd2b946c46a3bdc03d5956b</td>\n",
       "      <td>ryan</td>\n",
       "      <td>ordas</td>\n",
       "      <td>Unknown</td>\n",
       "      <td>Unknown</td>\n",
       "    </tr>\n",
       "    <tr>\n",
       "      <th>1</th>\n",
       "      <td>a4e34ae013191acc574e4fca76297a28</td>\n",
       "      <td>ryan</td>\n",
       "      <td>del rosario</td>\n",
       "      <td>Unknown</td>\n",
       "      <td>chelsea.ylime03@gmail.com</td>\n",
       "    </tr>\n",
       "    <tr>\n",
       "      <th>2</th>\n",
       "      <td>e63d245cfc3aefb87c8b780d50841619</td>\n",
       "      <td>ryan</td>\n",
       "      <td>buella</td>\n",
       "      <td>Unknown</td>\n",
       "      <td>Unknown</td>\n",
       "    </tr>\n",
       "  </tbody>\n",
       "</table>\n",
       "</div>"
      ],
      "text/plain": [
       "                     passenger_hash FirstName     LastName    Phone   \n",
       "0  6f9cecc6ecd2b946c46a3bdc03d5956b      ryan        ordas  Unknown  \\\n",
       "1  a4e34ae013191acc574e4fca76297a28      ryan  del rosario  Unknown   \n",
       "2  e63d245cfc3aefb87c8b780d50841619      ryan       buella  Unknown   \n",
       "\n",
       "                EmailAddress  \n",
       "0                    Unknown  \n",
       "1  chelsea.ylime03@gmail.com  \n",
       "2                    Unknown  "
      ]
     },
     "execution_count": 12,
     "metadata": {},
     "output_type": "execute_result"
    }
   ],
   "source": [
    "df.head()"
   ]
  },
  {
   "cell_type": "code",
   "execution_count": 1,
   "metadata": {},
   "outputs": [],
   "source": [
    "import pandas as pd"
   ]
  },
  {
   "cell_type": "code",
   "execution_count": 3,
   "metadata": {},
   "outputs": [
    {
     "ename": "ImportError",
     "evalue": "Unable to find a usable engine; tried using: 'pyarrow', 'fastparquet'.\nA suitable version of pyarrow or fastparquet is required for parquet support.\nTrying to import the above resulted in these errors:\n - Missing optional dependency 'pyarrow'. pyarrow is required for parquet support. Use pip or conda to install pyarrow.\n - Missing optional dependency 'fastparquet'. fastparquet is required for parquet support. Use pip or conda to install fastparquet.",
     "output_type": "error",
     "traceback": [
      "\u001b[1;31m---------------------------------------------------------------------------\u001b[0m",
      "\u001b[1;31mImportError\u001b[0m                               Traceback (most recent call last)",
      "\u001b[1;32mc:\\Users\\Lenovo\\Documents\\CeBu-CDP-API\\profile_search.ipynb Cell 6\u001b[0m line \u001b[0;36m3\n\u001b[0;32m      <a href='vscode-notebook-cell:/c%3A/Users/Lenovo/Documents/CeBu-CDP-API/profile_search.ipynb#W4sZmlsZQ%3D%3D?line=0'>1</a>\u001b[0m \u001b[39mimport\u001b[39;00m \u001b[39mpandas\u001b[39;00m \u001b[39mas\u001b[39;00m \u001b[39mpd\u001b[39;00m\n\u001b[1;32m----> <a href='vscode-notebook-cell:/c%3A/Users/Lenovo/Documents/CeBu-CDP-API/profile_search.ipynb#W4sZmlsZQ%3D%3D?line=2'>3</a>\u001b[0m df \u001b[39m=\u001b[39m pd\u001b[39m.\u001b[39;49mread_parquet(\u001b[39m\"\u001b[39;49m\u001b[39m../profiles/passenger_details/*\u001b[39;49m\u001b[39m\"\u001b[39;49m)\n",
      "File \u001b[1;32mc:\\Users\\Lenovo\\AppData\\Local\\Programs\\Python\\Python311\\Lib\\site-packages\\pandas\\io\\parquet.py:501\u001b[0m, in \u001b[0;36mread_parquet\u001b[1;34m(path, engine, columns, storage_options, use_nullable_dtypes, **kwargs)\u001b[0m\n\u001b[0;32m    447\u001b[0m \u001b[39m@doc\u001b[39m(storage_options\u001b[39m=\u001b[39m_shared_docs[\u001b[39m\"\u001b[39m\u001b[39mstorage_options\u001b[39m\u001b[39m\"\u001b[39m])\n\u001b[0;32m    448\u001b[0m \u001b[39mdef\u001b[39;00m \u001b[39mread_parquet\u001b[39m(\n\u001b[0;32m    449\u001b[0m     path: FilePath \u001b[39m|\u001b[39m ReadBuffer[\u001b[39mbytes\u001b[39m],\n\u001b[1;32m   (...)\u001b[0m\n\u001b[0;32m    454\u001b[0m     \u001b[39m*\u001b[39m\u001b[39m*\u001b[39mkwargs,\n\u001b[0;32m    455\u001b[0m ) \u001b[39m-\u001b[39m\u001b[39m>\u001b[39m DataFrame:\n\u001b[0;32m    456\u001b[0m \u001b[39m    \u001b[39m\u001b[39m\"\"\"\u001b[39;00m\n\u001b[0;32m    457\u001b[0m \u001b[39m    Load a parquet object from the file path, returning a DataFrame.\u001b[39;00m\n\u001b[0;32m    458\u001b[0m \n\u001b[1;32m   (...)\u001b[0m\n\u001b[0;32m    499\u001b[0m \u001b[39m    DataFrame\u001b[39;00m\n\u001b[0;32m    500\u001b[0m \u001b[39m    \"\"\"\u001b[39;00m\n\u001b[1;32m--> 501\u001b[0m     impl \u001b[39m=\u001b[39m get_engine(engine)\n\u001b[0;32m    503\u001b[0m     \u001b[39mreturn\u001b[39;00m impl\u001b[39m.\u001b[39mread(\n\u001b[0;32m    504\u001b[0m         path,\n\u001b[0;32m    505\u001b[0m         columns\u001b[39m=\u001b[39mcolumns,\n\u001b[1;32m   (...)\u001b[0m\n\u001b[0;32m    508\u001b[0m         \u001b[39m*\u001b[39m\u001b[39m*\u001b[39mkwargs,\n\u001b[0;32m    509\u001b[0m     )\n",
      "File \u001b[1;32mc:\\Users\\Lenovo\\AppData\\Local\\Programs\\Python\\Python311\\Lib\\site-packages\\pandas\\io\\parquet.py:52\u001b[0m, in \u001b[0;36mget_engine\u001b[1;34m(engine)\u001b[0m\n\u001b[0;32m     49\u001b[0m         \u001b[39mexcept\u001b[39;00m \u001b[39mImportError\u001b[39;00m \u001b[39mas\u001b[39;00m err:\n\u001b[0;32m     50\u001b[0m             error_msgs \u001b[39m+\u001b[39m\u001b[39m=\u001b[39m \u001b[39m\"\u001b[39m\u001b[39m\\n\u001b[39;00m\u001b[39m - \u001b[39m\u001b[39m\"\u001b[39m \u001b[39m+\u001b[39m \u001b[39mstr\u001b[39m(err)\n\u001b[1;32m---> 52\u001b[0m     \u001b[39mraise\u001b[39;00m \u001b[39mImportError\u001b[39;00m(\n\u001b[0;32m     53\u001b[0m         \u001b[39m\"\u001b[39m\u001b[39mUnable to find a usable engine; \u001b[39m\u001b[39m\"\u001b[39m\n\u001b[0;32m     54\u001b[0m         \u001b[39m\"\u001b[39m\u001b[39mtried using: \u001b[39m\u001b[39m'\u001b[39m\u001b[39mpyarrow\u001b[39m\u001b[39m'\u001b[39m\u001b[39m, \u001b[39m\u001b[39m'\u001b[39m\u001b[39mfastparquet\u001b[39m\u001b[39m'\u001b[39m\u001b[39m.\u001b[39m\u001b[39m\\n\u001b[39;00m\u001b[39m\"\u001b[39m\n\u001b[0;32m     55\u001b[0m         \u001b[39m\"\u001b[39m\u001b[39mA suitable version of \u001b[39m\u001b[39m\"\u001b[39m\n\u001b[0;32m     56\u001b[0m         \u001b[39m\"\u001b[39m\u001b[39mpyarrow or fastparquet is required for parquet \u001b[39m\u001b[39m\"\u001b[39m\n\u001b[0;32m     57\u001b[0m         \u001b[39m\"\u001b[39m\u001b[39msupport.\u001b[39m\u001b[39m\\n\u001b[39;00m\u001b[39m\"\u001b[39m\n\u001b[0;32m     58\u001b[0m         \u001b[39m\"\u001b[39m\u001b[39mTrying to import the above resulted in these errors:\u001b[39m\u001b[39m\"\u001b[39m\n\u001b[0;32m     59\u001b[0m         \u001b[39mf\u001b[39m\u001b[39m\"\u001b[39m\u001b[39m{\u001b[39;00merror_msgs\u001b[39m}\u001b[39;00m\u001b[39m\"\u001b[39m\n\u001b[0;32m     60\u001b[0m     )\n\u001b[0;32m     62\u001b[0m \u001b[39mif\u001b[39;00m engine \u001b[39m==\u001b[39m \u001b[39m\"\u001b[39m\u001b[39mpyarrow\u001b[39m\u001b[39m\"\u001b[39m:\n\u001b[0;32m     63\u001b[0m     \u001b[39mreturn\u001b[39;00m PyArrowImpl()\n",
      "\u001b[1;31mImportError\u001b[0m: Unable to find a usable engine; tried using: 'pyarrow', 'fastparquet'.\nA suitable version of pyarrow or fastparquet is required for parquet support.\nTrying to import the above resulted in these errors:\n - Missing optional dependency 'pyarrow'. pyarrow is required for parquet support. Use pip or conda to install pyarrow.\n - Missing optional dependency 'fastparquet'. fastparquet is required for parquet support. Use pip or conda to install fastparquet."
     ]
    }
   ],
   "source": [
    "import pandas as pd\n",
    "\n",
    "df = pd.read_parquet(\"../profiles/passenger_details/*\")"
   ]
  },
  {
   "cell_type": "code",
   "execution_count": null,
   "metadata": {},
   "outputs": [],
   "source": []
  }
 ],
 "metadata": {
  "kernelspec": {
   "display_name": "Python 3",
   "language": "python",
   "name": "python3"
  },
  "language_info": {
   "codemirror_mode": {
    "name": "ipython",
    "version": 3
   },
   "file_extension": ".py",
   "mimetype": "text/x-python",
   "name": "python",
   "nbconvert_exporter": "python",
   "pygments_lexer": "ipython3",
   "version": "3.11.5"
  },
  "orig_nbformat": 4
 },
 "nbformat": 4,
 "nbformat_minor": 2
}
