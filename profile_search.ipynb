{
 "cells": [
  {
   "cell_type": "code",
   "execution_count": 2,
   "metadata": {},
   "outputs": [],
   "source": [
    "import duckdb\n",
    "import json\n",
    "import pandas as pd\n"
   ]
  },
  {
   "cell_type": "code",
   "execution_count": 21,
   "metadata": {},
   "outputs": [
    {
     "name": "stdout",
     "output_type": "stream",
     "text": [
      "CREATE TEMPORARY TABLE cdp_profile AS SELECT passenger_hash,firstname,lastname,phone,emailaddress FROM read_parquet('profiles/passenger_details/*.parquet') WHERE firstname like ('Yves') and lastname like ('Kangleon') and phone like ('21212')  limit 50\n"
     ]
    },
    {
     "ename": "KeyError",
     "evalue": "0",
     "output_type": "error",
     "traceback": [
      "\u001b[1;31m---------------------------------------------------------------------------\u001b[0m",
      "\u001b[1;31mKeyError\u001b[0m                                  Traceback (most recent call last)",
      "\u001b[1;32mc:\\Users\\pradi\\Downloads\\cdp_api\\profile_search.ipynb Cell 2\u001b[0m line \u001b[0;36m5\n\u001b[0;32m     <a href='vscode-notebook-cell:/c%3A/Users/pradi/Downloads/cdp_api/profile_search.ipynb#W1sZmlsZQ%3D%3D?line=54'>55</a>\u001b[0m df \u001b[39m=\u001b[39m conn\u001b[39m.\u001b[39mexecute(\u001b[39mf\u001b[39m\u001b[39m\"\u001b[39m\u001b[39mSELECT * FROM cdp_profile\u001b[39m\u001b[39m\"\u001b[39m)\u001b[39m.\u001b[39mdf()\n\u001b[0;32m     <a href='vscode-notebook-cell:/c%3A/Users/pradi/Downloads/cdp_api/profile_search.ipynb#W1sZmlsZQ%3D%3D?line=55'>56</a>\u001b[0m df_dict \u001b[39m=\u001b[39m df\u001b[39m.\u001b[39mto_dict()\n\u001b[1;32m---> <a href='vscode-notebook-cell:/c%3A/Users/pradi/Downloads/cdp_api/profile_search.ipynb#W1sZmlsZQ%3D%3D?line=56'>57</a>\u001b[0m df_dict \u001b[39m=\u001b[39m {key:value[\u001b[39m0\u001b[39;49m] \u001b[39mfor\u001b[39;49;00m key,value \u001b[39min\u001b[39;49;00m df_dict\u001b[39m.\u001b[39;49mitems() }\n\u001b[0;32m     <a href='vscode-notebook-cell:/c%3A/Users/pradi/Downloads/cdp_api/profile_search.ipynb#W1sZmlsZQ%3D%3D?line=57'>58</a>\u001b[0m json_data \u001b[39m=\u001b[39m json\u001b[39m.\u001b[39mdumps(df_dict, sort_keys\u001b[39m=\u001b[39m\u001b[39mFalse\u001b[39;00m)\n",
      "\u001b[1;32mc:\\Users\\pradi\\Downloads\\cdp_api\\profile_search.ipynb Cell 2\u001b[0m line \u001b[0;36m5\n\u001b[0;32m     <a href='vscode-notebook-cell:/c%3A/Users/pradi/Downloads/cdp_api/profile_search.ipynb#W1sZmlsZQ%3D%3D?line=54'>55</a>\u001b[0m df \u001b[39m=\u001b[39m conn\u001b[39m.\u001b[39mexecute(\u001b[39mf\u001b[39m\u001b[39m\"\u001b[39m\u001b[39mSELECT * FROM cdp_profile\u001b[39m\u001b[39m\"\u001b[39m)\u001b[39m.\u001b[39mdf()\n\u001b[0;32m     <a href='vscode-notebook-cell:/c%3A/Users/pradi/Downloads/cdp_api/profile_search.ipynb#W1sZmlsZQ%3D%3D?line=55'>56</a>\u001b[0m df_dict \u001b[39m=\u001b[39m df\u001b[39m.\u001b[39mto_dict()\n\u001b[1;32m---> <a href='vscode-notebook-cell:/c%3A/Users/pradi/Downloads/cdp_api/profile_search.ipynb#W1sZmlsZQ%3D%3D?line=56'>57</a>\u001b[0m df_dict \u001b[39m=\u001b[39m {key:value[\u001b[39m0\u001b[39;49m] \u001b[39mfor\u001b[39;00m key,value \u001b[39min\u001b[39;00m df_dict\u001b[39m.\u001b[39mitems() }\n\u001b[0;32m     <a href='vscode-notebook-cell:/c%3A/Users/pradi/Downloads/cdp_api/profile_search.ipynb#W1sZmlsZQ%3D%3D?line=57'>58</a>\u001b[0m json_data \u001b[39m=\u001b[39m json\u001b[39m.\u001b[39mdumps(df_dict, sort_keys\u001b[39m=\u001b[39m\u001b[39mFalse\u001b[39;00m)\n",
      "\u001b[1;31mKeyError\u001b[0m: 0"
     ]
    }
   ],
   "source": [
    "conn = duckdb.connect(database = ':memory:')\n",
    "profile_type = \"passenger\"\n",
    "\n",
    "if profile_type == \"passenger\":\n",
    "        path = \"passenger_details\"\n",
    "elif profile_type == \"booker\":\n",
    "    path = \"booker_details\"\n",
    "\n",
    "firstname = \"Yves\"\n",
    "lastname = \"Kangleon\"\n",
    "phone = 21212\n",
    "email = None\n",
    "id = None\n",
    "\n",
    "\n",
    "conn.execute(f\"DROP TABLE IF EXISTS cdp_profile\")\n",
    "\n",
    "query = f\"CREATE TEMPORARY TABLE cdp_profile AS SELECT passenger_hash,firstname,lastname,phone,emailaddress FROM read_parquet('profiles/{path}/*.parquet') WHERE \"\n",
    "\n",
    "count = 0\n",
    "\n",
    "if firstname is not None:\n",
    "    query += f\"firstname like ('{firstname}') \"\n",
    "    count += 1\n",
    "\n",
    "if id is not None:\n",
    "    query += f\"passenger_hash = '{id}'\"\n",
    "    conn.execute(query)\n",
    "    df = conn.execute(f\"SELECT * FROM cdp_profile\").df()\n",
    "    df_dict = df.to_dict()\n",
    "    # df_dict = {key:value[0] for key,value in df_dict.items() }\n",
    "    json_data = json.dumps(df_dict, sort_keys=False)\n",
    "    # return Response(json_data, content_type='application/json')\n",
    "\n",
    "\n",
    "\n",
    "if lastname is not None:\n",
    "    if count >= 1:\n",
    "        query += \"and \"\n",
    "    query += f\"lastname like ('{lastname}') \"\n",
    "\n",
    "if email is not None:\n",
    "    if count >= 1:\n",
    "        query += \"and \"\n",
    "    query += f\"emailaddress like ('{email}') \"\n",
    "\n",
    "if phone is not None:\n",
    "    if count >= 1:\n",
    "        query += \"and \"\n",
    "    query += f\"phone like ('{phone}') \"\n",
    "\n",
    "query += \" limit 50\"\n",
    "\n",
    "conn.execute(query)\n",
    "print(query)\n",
    "\n",
    "df = conn.execute(f\"SELECT * FROM cdp_profile\").df()\n",
    "df_dict = df.to_dict()\n",
    "df_dict = {key:value[0] for key,value in df_dict.items() }\n",
    "json_data = json.dumps(df_dict, sort_keys=False)\n",
    "\n",
    "\n",
    "\n"
   ]
  },
  {
   "cell_type": "code",
   "execution_count": 11,
   "metadata": {},
   "outputs": [],
   "source": [
    "conn.execute(f\"DROP TABLE IF EXISTS cdp_profile\")\n",
    "\n",
    "query = f\"CREATE TEMPORARY TABLE cdp_profile AS SELECT passenger_hash,firstname,lastname,phone,emailaddress FROM read_parquet('profiles/{path}/*.parquet') WHERE firstname like ('ryan') limit 50\"\n",
    "\n",
    "conn.execute(query)\n",
    "\n",
    "df = conn.execute(f\"SELECT * FROM cdp_profile\").df()"
   ]
  },
  {
   "cell_type": "code",
   "execution_count": 12,
   "metadata": {},
   "outputs": [
    {
     "data": {
      "text/html": [
       "<div>\n",
       "<style scoped>\n",
       "    .dataframe tbody tr th:only-of-type {\n",
       "        vertical-align: middle;\n",
       "    }\n",
       "\n",
       "    .dataframe tbody tr th {\n",
       "        vertical-align: top;\n",
       "    }\n",
       "\n",
       "    .dataframe thead th {\n",
       "        text-align: right;\n",
       "    }\n",
       "</style>\n",
       "<table border=\"1\" class=\"dataframe\">\n",
       "  <thead>\n",
       "    <tr style=\"text-align: right;\">\n",
       "      <th></th>\n",
       "      <th>passenger_hash</th>\n",
       "      <th>FirstName</th>\n",
       "      <th>LastName</th>\n",
       "      <th>Phone</th>\n",
       "      <th>EmailAddress</th>\n",
       "    </tr>\n",
       "  </thead>\n",
       "  <tbody>\n",
       "    <tr>\n",
       "      <th>0</th>\n",
       "      <td>6f9cecc6ecd2b946c46a3bdc03d5956b</td>\n",
       "      <td>ryan</td>\n",
       "      <td>ordas</td>\n",
       "      <td>Unknown</td>\n",
       "      <td>Unknown</td>\n",
       "    </tr>\n",
       "    <tr>\n",
       "      <th>1</th>\n",
       "      <td>a4e34ae013191acc574e4fca76297a28</td>\n",
       "      <td>ryan</td>\n",
       "      <td>del rosario</td>\n",
       "      <td>Unknown</td>\n",
       "      <td>chelsea.ylime03@gmail.com</td>\n",
       "    </tr>\n",
       "    <tr>\n",
       "      <th>2</th>\n",
       "      <td>e63d245cfc3aefb87c8b780d50841619</td>\n",
       "      <td>ryan</td>\n",
       "      <td>buella</td>\n",
       "      <td>Unknown</td>\n",
       "      <td>Unknown</td>\n",
       "    </tr>\n",
       "  </tbody>\n",
       "</table>\n",
       "</div>"
      ],
      "text/plain": [
       "                     passenger_hash FirstName     LastName    Phone   \n",
       "0  6f9cecc6ecd2b946c46a3bdc03d5956b      ryan        ordas  Unknown  \\\n",
       "1  a4e34ae013191acc574e4fca76297a28      ryan  del rosario  Unknown   \n",
       "2  e63d245cfc3aefb87c8b780d50841619      ryan       buella  Unknown   \n",
       "\n",
       "                EmailAddress  \n",
       "0                    Unknown  \n",
       "1  chelsea.ylime03@gmail.com  \n",
       "2                    Unknown  "
      ]
     },
     "execution_count": 12,
     "metadata": {},
     "output_type": "execute_result"
    }
   ],
   "source": [
    "df.head()"
   ]
  },
  {
   "cell_type": "code",
   "execution_count": 1,
   "metadata": {},
   "outputs": [],
   "source": [
    "import pandas as pd"
   ]
  },
  {
   "cell_type": "code",
   "execution_count": 3,
   "metadata": {},
   "outputs": [],
   "source": [
    "import pandas as pd\n",
    "\n",
    "df = pd.read_parquet(\"../profiles/passenger_details/part-00000-dc8c90c4-61b7-41be-a47c-a591227d74b8-c000.snappy.parquet\")"
   ]
  },
  {
   "cell_type": "code",
   "execution_count": 4,
   "metadata": {},
   "outputs": [
    {
     "data": {
      "text/html": [
       "<div>\n",
       "<style scoped>\n",
       "    .dataframe tbody tr th:only-of-type {\n",
       "        vertical-align: middle;\n",
       "    }\n",
       "\n",
       "    .dataframe tbody tr th {\n",
       "        vertical-align: top;\n",
       "    }\n",
       "\n",
       "    .dataframe thead th {\n",
       "        text-align: right;\n",
       "    }\n",
       "</style>\n",
       "<table border=\"1\" class=\"dataframe\">\n",
       "  <thead>\n",
       "    <tr style=\"text-align: right;\">\n",
       "      <th></th>\n",
       "      <th>passenger_hash</th>\n",
       "      <th>FirstName</th>\n",
       "      <th>MiddleName</th>\n",
       "      <th>LastName</th>\n",
       "      <th>HonorificPrefix</th>\n",
       "      <th>HonorificSuffix</th>\n",
       "      <th>EmailAddress</th>\n",
       "      <th>Phone</th>\n",
       "      <th>Gender</th>\n",
       "      <th>ProvisionalPrimaryKey</th>\n",
       "      <th>...</th>\n",
       "      <th>BookingCurrency_separator_PGK</th>\n",
       "      <th>BookingCurrency_separator_CHF</th>\n",
       "      <th>IsRegistered_separator_No</th>\n",
       "      <th>IsRegistered_separator_Yes</th>\n",
       "      <th>TravelSoloOrGroup_separator_Group</th>\n",
       "      <th>TravelSoloOrGroup_separator_Solo</th>\n",
       "      <th>TravelOrigin</th>\n",
       "      <th>TravelDestination</th>\n",
       "      <th>TravelSeat</th>\n",
       "      <th>Details</th>\n",
       "    </tr>\n",
       "  </thead>\n",
       "  <tbody>\n",
       "    <tr>\n",
       "      <th>0</th>\n",
       "      <td>00013c4fd4dc94e001e0ea61f1a952a4</td>\n",
       "      <td>TianLv</td>\n",
       "      <td></td>\n",
       "      <td>Bi</td>\n",
       "      <td>MS</td>\n",
       "      <td></td>\n",
       "      <td>Unknown</td>\n",
       "      <td>Unknown</td>\n",
       "      <td>2</td>\n",
       "      <td>202022770_9</td>\n",
       "      <td>...</td>\n",
       "      <td>0</td>\n",
       "      <td>0</td>\n",
       "      <td>1</td>\n",
       "      <td>0</td>\n",
       "      <td>1</td>\n",
       "      <td>0</td>\n",
       "      <td>{\"Unknown\": 1}</td>\n",
       "      <td>{\"Unknown\": 1}</td>\n",
       "      <td>{\"Unknown\": 1}</td>\n",
       "      <td>{\"0\": {\"insurance\": \"None\", \"revenue\": \"0.0\", ...</td>\n",
       "    </tr>\n",
       "    <tr>\n",
       "      <th>1</th>\n",
       "      <td>0004b470d6536035e5b519acefcc4fa1</td>\n",
       "      <td>YanNi</td>\n",
       "      <td></td>\n",
       "      <td>Chi</td>\n",
       "      <td>MS</td>\n",
       "      <td></td>\n",
       "      <td>Unknown</td>\n",
       "      <td>Unknown</td>\n",
       "      <td>2</td>\n",
       "      <td>206737877_9</td>\n",
       "      <td>...</td>\n",
       "      <td>0</td>\n",
       "      <td>0</td>\n",
       "      <td>1</td>\n",
       "      <td>0</td>\n",
       "      <td>1</td>\n",
       "      <td>0</td>\n",
       "      <td>{\"Unknown\": 1}</td>\n",
       "      <td>{\"Unknown\": 1}</td>\n",
       "      <td>{\"Unknown\": 1}</td>\n",
       "      <td>{\"0\": {\"insurance\": \"None\", \"revenue\": \"0.0\", ...</td>\n",
       "    </tr>\n",
       "    <tr>\n",
       "      <th>2</th>\n",
       "      <td>00051892f7d8c7acc76c5fb849d733ae</td>\n",
       "      <td>Sgwzbtm</td>\n",
       "      <td></td>\n",
       "      <td>Scvdhzc</td>\n",
       "      <td>MR</td>\n",
       "      <td></td>\n",
       "      <td>Unknown</td>\n",
       "      <td>Unknown</td>\n",
       "      <td>1</td>\n",
       "      <td>276650334_9</td>\n",
       "      <td>...</td>\n",
       "      <td>0</td>\n",
       "      <td>0</td>\n",
       "      <td>1</td>\n",
       "      <td>0</td>\n",
       "      <td>1</td>\n",
       "      <td>0</td>\n",
       "      <td>{\"Unknown\": 1}</td>\n",
       "      <td>{\"Unknown\": 1}</td>\n",
       "      <td>{\"Unknown\": 1}</td>\n",
       "      <td>{\"0\": {\"insurance\": \"None\", \"revenue\": \"0.0\", ...</td>\n",
       "    </tr>\n",
       "    <tr>\n",
       "      <th>3</th>\n",
       "      <td>000676b0d808cbfbf00ba2a7cf91fce8</td>\n",
       "      <td>Lanie</td>\n",
       "      <td></td>\n",
       "      <td>Gallero</td>\n",
       "      <td>MS</td>\n",
       "      <td></td>\n",
       "      <td>Unknown</td>\n",
       "      <td>Unknown</td>\n",
       "      <td>2</td>\n",
       "      <td>257212560_9</td>\n",
       "      <td>...</td>\n",
       "      <td>0</td>\n",
       "      <td>0</td>\n",
       "      <td>2</td>\n",
       "      <td>0</td>\n",
       "      <td>2</td>\n",
       "      <td>0</td>\n",
       "      <td>{\"MNL\": 1, \"ILO\": 1}</td>\n",
       "      <td>{\"ILO\": 1, \"MNL\": 1}</td>\n",
       "      <td>{\"16C\": 1, \"19C\": 1}</td>\n",
       "      <td>{\"0\": {\"insurance\": \"None\", \"revenue\": \"1287.9...</td>\n",
       "    </tr>\n",
       "    <tr>\n",
       "      <th>4</th>\n",
       "      <td>00074a032dae7bda34a91983059576e8</td>\n",
       "      <td>Elsandy</td>\n",
       "      <td></td>\n",
       "      <td>Salcedo</td>\n",
       "      <td>MR</td>\n",
       "      <td></td>\n",
       "      <td>Unknown</td>\n",
       "      <td>Unknown</td>\n",
       "      <td>1</td>\n",
       "      <td>135786284_654886</td>\n",
       "      <td>...</td>\n",
       "      <td>0</td>\n",
       "      <td>0</td>\n",
       "      <td>1</td>\n",
       "      <td>0</td>\n",
       "      <td>1</td>\n",
       "      <td>0</td>\n",
       "      <td>{\"MNL\": 1}</td>\n",
       "      <td>{\"BCD\": 1}</td>\n",
       "      <td>{\"28E\": 1}</td>\n",
       "      <td>{\"0\": {\"insurance\": \"None\", \"revenue\": \"2450.0...</td>\n",
       "    </tr>\n",
       "  </tbody>\n",
       "</table>\n",
       "<p>5 rows × 109 columns</p>\n",
       "</div>"
      ],
      "text/plain": [
       "                     passenger_hash FirstName MiddleName LastName  \\\n",
       "0  00013c4fd4dc94e001e0ea61f1a952a4    TianLv                  Bi   \n",
       "1  0004b470d6536035e5b519acefcc4fa1     YanNi                 Chi   \n",
       "2  00051892f7d8c7acc76c5fb849d733ae   Sgwzbtm             Scvdhzc   \n",
       "3  000676b0d808cbfbf00ba2a7cf91fce8     Lanie             Gallero   \n",
       "4  00074a032dae7bda34a91983059576e8   Elsandy             Salcedo   \n",
       "\n",
       "  HonorificPrefix HonorificSuffix EmailAddress    Phone Gender  \\\n",
       "0              MS                      Unknown  Unknown      2   \n",
       "1              MS                      Unknown  Unknown      2   \n",
       "2              MR                      Unknown  Unknown      1   \n",
       "3              MS                      Unknown  Unknown      2   \n",
       "4              MR                      Unknown  Unknown      1   \n",
       "\n",
       "  ProvisionalPrimaryKey  ... BookingCurrency_separator_PGK  \\\n",
       "0           202022770_9  ...                             0   \n",
       "1           206737877_9  ...                             0   \n",
       "2           276650334_9  ...                             0   \n",
       "3           257212560_9  ...                             0   \n",
       "4      135786284_654886  ...                             0   \n",
       "\n",
       "  BookingCurrency_separator_CHF IsRegistered_separator_No  \\\n",
       "0                             0                         1   \n",
       "1                             0                         1   \n",
       "2                             0                         1   \n",
       "3                             0                         2   \n",
       "4                             0                         1   \n",
       "\n",
       "  IsRegistered_separator_Yes TravelSoloOrGroup_separator_Group  \\\n",
       "0                          0                                 1   \n",
       "1                          0                                 1   \n",
       "2                          0                                 1   \n",
       "3                          0                                 2   \n",
       "4                          0                                 1   \n",
       "\n",
       "  TravelSoloOrGroup_separator_Solo          TravelOrigin  \\\n",
       "0                                0        {\"Unknown\": 1}   \n",
       "1                                0        {\"Unknown\": 1}   \n",
       "2                                0        {\"Unknown\": 1}   \n",
       "3                                0  {\"MNL\": 1, \"ILO\": 1}   \n",
       "4                                0            {\"MNL\": 1}   \n",
       "\n",
       "      TravelDestination            TravelSeat  \\\n",
       "0        {\"Unknown\": 1}        {\"Unknown\": 1}   \n",
       "1        {\"Unknown\": 1}        {\"Unknown\": 1}   \n",
       "2        {\"Unknown\": 1}        {\"Unknown\": 1}   \n",
       "3  {\"ILO\": 1, \"MNL\": 1}  {\"16C\": 1, \"19C\": 1}   \n",
       "4            {\"BCD\": 1}            {\"28E\": 1}   \n",
       "\n",
       "                                             Details  \n",
       "0  {\"0\": {\"insurance\": \"None\", \"revenue\": \"0.0\", ...  \n",
       "1  {\"0\": {\"insurance\": \"None\", \"revenue\": \"0.0\", ...  \n",
       "2  {\"0\": {\"insurance\": \"None\", \"revenue\": \"0.0\", ...  \n",
       "3  {\"0\": {\"insurance\": \"None\", \"revenue\": \"1287.9...  \n",
       "4  {\"0\": {\"insurance\": \"None\", \"revenue\": \"2450.0...  \n",
       "\n",
       "[5 rows x 109 columns]"
      ]
     },
     "execution_count": 4,
     "metadata": {},
     "output_type": "execute_result"
    }
   ],
   "source": [
    "df.head(5)"
   ]
  },
  {
   "cell_type": "code",
   "execution_count": 3,
   "metadata": {},
   "outputs": [
    {
     "name": "stdout",
     "output_type": "stream",
     "text": [
      "{'January': 15638, 'February': 14107, 'March': 19126, 'April': 17617, 'May': 21500, 'June': 20693, 'July': 21119, 'August': 11863, 'September': 11990, 'October': 15233, 'November': 15840, 'December': 20635}\n"
     ]
    }
   ],
   "source": [
    "import calendar\n",
    "\n",
    "months_dict= {\n",
    "        \"July\": 21119,\n",
    "        \"January\": 15638,\n",
    "        \"September\": 11990,\n",
    "        \"October\": 15233,\n",
    "        \"December\": 20635,\n",
    "        \"March\": 19126,\n",
    "        \"April\": 17617,\n",
    "        \"August\": 11863,\n",
    "        \"May\": 21500,\n",
    "        \"November\": 15840,\n",
    "        \"February\": 14107,\n",
    "        \"June\": 20693\n",
    "    }\n",
    "\n",
    "month_indices = {month: index for index, month in enumerate(calendar.month_name) if month}\n",
    "\n",
    "    # Sort the original dictionary based on month indices\n",
    "sorted_data = dict(sorted(months_dict.items(), key=lambda item: month_indices[item[0]]))   \n",
    "\n",
    "print(sorted_data)"
   ]
  },
  {
   "cell_type": "code",
   "execution_count": 4,
   "metadata": {},
   "outputs": [],
   "source": [
    "sorted_data[\"Months\"] = sorted_data"
   ]
  },
  {
   "cell_type": "code",
   "execution_count": 5,
   "metadata": {},
   "outputs": [
    {
     "data": {
      "text/plain": [
       "{'January': 15638,\n",
       " 'February': 14107,\n",
       " 'March': 19126,\n",
       " 'April': 17617,\n",
       " 'May': 21500,\n",
       " 'June': 20693,\n",
       " 'July': 21119,\n",
       " 'August': 11863,\n",
       " 'September': 11990,\n",
       " 'October': 15233,\n",
       " 'November': 15840,\n",
       " 'December': 20635,\n",
       " 'Months': {...}}"
      ]
     },
     "execution_count": 5,
     "metadata": {},
     "output_type": "execute_result"
    }
   ],
   "source": [
    "sorted_data"
   ]
  },
  {
   "cell_type": "code",
   "execution_count": 6,
   "metadata": {},
   "outputs": [],
   "source": [
    "sorted_data = {\"hello\":123\n",
    "\n",
    "}"
   ]
  },
  {
   "cell_type": "code",
   "execution_count": 7,
   "metadata": {},
   "outputs": [],
   "source": [
    "sorted_data[\"hello\"]=6787"
   ]
  },
  {
   "cell_type": "code",
   "execution_count": 8,
   "metadata": {},
   "outputs": [
    {
     "name": "stdout",
     "output_type": "stream",
     "text": [
      "{'hello': 6787}\n"
     ]
    }
   ],
   "source": [
    "print(sorted_data)"
   ]
  },
  {
   "cell_type": "code",
   "execution_count": 24,
   "metadata": {},
   "outputs": [],
   "source": [
    "TravelInsurance= {\n",
    "        \"Insurance\": 4,\n",
    "        \"None\": 205342,\n",
    "        \"Insurance_space1_Roundtrip_space2_\": 15\n",
    "    }"
   ]
  },
  {
   "cell_type": "code",
   "execution_count": 25,
   "metadata": {},
   "outputs": [],
   "source": [
    "for key in TravelInsurance:\n",
    "    new_key = key.replace(\"_space1_\", \" \").replace(\"_space2_\", \" \").replace(\"_space2_\", \" \")\n",
    "    TravelInsurance[new_key] = TravelInsurance.pop(key)"
   ]
  },
  {
   "cell_type": "code",
   "execution_count": 26,
   "metadata": {},
   "outputs": [
    {
     "name": "stdout",
     "output_type": "stream",
     "text": [
      "{'Insurance': 4, 'None': 205342, 'Insurance Roundtrip ': 15}\n"
     ]
    }
   ],
   "source": [
    "print(TravelInsurance)"
   ]
  },
  {
   "cell_type": "code",
   "execution_count": 38,
   "metadata": {},
   "outputs": [],
   "source": [
    "data = {\"AgeRange\": {\n",
    "        \"31_to_40\": 65087,\n",
    "        \"41_to_50\": 22965,\n",
    "        \"Above100\": 8,\n",
    "        \"1_to_10\": 6395,\n",
    "        \"21_to_30\": 66505,\n",
    "        \"81_to_90\": 357,\n",
    "        \"61_to_70\": 14389,\n",
    "        \"91_to_100\": 36,\n",
    "        \"11_to_20\": 7476,\n",
    "        \"71_to_80\": 3056,\n",
    "        \"51_to_60\": 19087\n",
    "    }\n",
    "}"
   ]
  },
  {
   "cell_type": "code",
   "execution_count": 39,
   "metadata": {},
   "outputs": [],
   "source": [
    "data[\"AgeRange\"][\"Unspecified\"] = data[\"AgeRange\"][\"Above100\"]\n",
    "del data[\"AgeRange\"][\"Above100\"]"
   ]
  },
  {
   "cell_type": "code",
   "execution_count": 40,
   "metadata": {},
   "outputs": [
    {
     "name": "stdout",
     "output_type": "stream",
     "text": [
      "{'AgeRange': {'31_to_40': 65087, '41_to_50': 22965, '1_to_10': 6395, '21_to_30': 66505, '81_to_90': 357, '61_to_70': 14389, '91_to_100': 36, '11_to_20': 7476, '71_to_80': 3056, '51_to_60': 19087, 'Unspecified': 8}}\n"
     ]
    }
   ],
   "source": [
    "print(data)"
   ]
  },
  {
   "cell_type": "code",
   "execution_count": 34,
   "metadata": {},
   "outputs": [],
   "source": [
    "data = {\"Details\": {\n",
    "        \"0\": {\n",
    "            \"insurance\": \"None\",\n",
    "            \"revenue\": 0,\n",
    "            \"baggage\": \"None\",\n",
    "            \"record_locator\": \"YKWRTX\",\n",
    "            \"booking_date\": \"2019-03-25\",\n",
    "            \"origin\": \"Unknown\",\n",
    "            \"destination\": \"Unknown\",\n",
    "            \"currency\": \"PHP\",\n",
    "            \"travel_date\": \"Unknown\",\n",
    "            \"meals\": \"None\"\n",
    "        },\n",
    "        \"1\": {\n",
    "            \"insurance\": \"None\",\n",
    "            \"revenue\": 0,\n",
    "            \"baggage\": \"None\",\n",
    "            \"record_locator\": \"HDTLFZ\",\n",
    "            \"booking_date\": \"2019-05-15\",\n",
    "            \"origin\": \"Unknown\",\n",
    "            \"destination\": \"Unknown\",\n",
    "            \"currency\": \"PHP\",\n",
    "            \"travel_date\": \"Unknown\",\n",
    "            \"meals\": \"None\"\n",
    "        },\n",
    "        \"2\": {\n",
    "            \"insurance\": \"None\",\n",
    "            \"revenue\": 0,\n",
    "            \"baggage\": \"None\",\n",
    "            \"record_locator\": \"FBQUGS\",\n",
    "            \"booking_date\": \"2019-11-19\",\n",
    "            \"origin\": \"Unknown\",\n",
    "            \"destination\": \"Unknown\",\n",
    "            \"currency\": \"PHP\",\n",
    "            \"travel_date\": \"Unknown\",\n",
    "            \"meals\": \"None\"\n",
    "        },\n",
    "        \"3\": {\n",
    "            \"insurance\": \"None\",\n",
    "            \"revenue\": 0,\n",
    "            \"baggage\": \"None\",\n",
    "            \"record_locator\": \"ML62TN\",\n",
    "            \"booking_date\": \"2023-06-11\",\n",
    "            \"origin\": \"Unknown\",\n",
    "            \"destination\": \"Unknown\",\n",
    "            \"currency\": \"PHP\",\n",
    "            \"travel_date\": \"Unknown\",\n",
    "            \"meals\": \"None\"\n",
    "        },\n",
    "        \"4\": {\n",
    "            \"insurance\": \"None\",\n",
    "            \"revenue\": 0,\n",
    "            \"baggage\": \"None\",\n",
    "            \"record_locator\": \"MMVIWR\",\n",
    "            \"booking_date\": \"2020-01-17\",\n",
    "            \"origin\": \"Unknown\",\n",
    "            \"destination\": \"Unknown\",\n",
    "            \"currency\": \"PHP\",\n",
    "            \"travel_date\": \"Unknown\",\n",
    "            \"meals\": \"None\"\n",
    "        }\n",
    "}\n",
    "}"
   ]
  },
  {
   "cell_type": "code",
   "execution_count": 37,
   "metadata": {},
   "outputs": [
    {
     "name": "stdout",
     "output_type": "stream",
     "text": [
      "{'Details': {'0': {'insurance': 'None', 'revenue': 0, 'baggage': 'None', 'record_locator': 'YKWRTX', 'booking_date': '2019-03-25', 'origin': 'Unknown', 'destination': 'Unknown', 'currency': 'PHP', 'travel_date': 'Unknown', 'meals': 'None'}, '1': {'insurance': 'None', 'revenue': 0, 'baggage': 'None', 'record_locator': 'HDTLFZ', 'booking_date': '2019-05-15', 'origin': 'Unknown', 'destination': 'Unknown', 'currency': 'PHP', 'travel_date': 'Unknown', 'meals': 'None'}, '2': {'insurance': 'None', 'revenue': 0, 'baggage': 'None', 'record_locator': 'FBQUGS', 'booking_date': '2019-11-19', 'origin': 'Unknown', 'destination': 'Unknown', 'currency': 'PHP', 'travel_date': 'Unknown', 'meals': 'None'}, '3': {'insurance': 'None', 'revenue': 0, 'baggage': 'None', 'record_locator': 'ML62TN', 'booking_date': '2023-06-11', 'origin': 'Unknown', 'destination': 'Unknown', 'currency': 'PHP', 'travel_date': 'Unknown', 'meals': 'None'}, '4': {'insurance': 'None', 'revenue': 0, 'baggage': 'None', 'record_locator': 'MMVIWR', 'booking_date': '2020-01-17', 'origin': 'Unknown', 'destination': 'Unknown', 'currency': 'PHP', 'travel_date': 'Unknown', 'meals': 'None'}}}\n"
     ]
    }
   ],
   "source": [
    "data[\"Details\"] = dict(sorted(data[\"Details\"].items(), key=lambda item: (item[1][\"travel_date\"] if item[1][\"travel_date\"] != \"Unknown\" else float('inf'), item[0])))\n",
    "\n",
    "print(data)"
   ]
  }
 ],
 "metadata": {
  "kernelspec": {
   "display_name": "Python 3",
   "language": "python",
   "name": "python3"
  },
  "language_info": {
   "codemirror_mode": {
    "name": "ipython",
    "version": 3
   },
   "file_extension": ".py",
   "mimetype": "text/x-python",
   "name": "python",
   "nbconvert_exporter": "python",
   "pygments_lexer": "ipython3",
   "version": "3.11.5"
  },
  "orig_nbformat": 4
 },
 "nbformat": 4,
 "nbformat_minor": 2
}
