{
 "cells": [
  {
   "cell_type": "code",
   "execution_count": 1,
   "metadata": {},
   "outputs": [],
   "source": [
    "import duckdb\n",
    "import json\n",
    "import pandas as pd"
   ]
  },
  {
   "cell_type": "code",
   "execution_count": 2,
   "metadata": {},
   "outputs": [],
   "source": [
    "conn = duckdb.connect(database=\":memory:\")"
   ]
  },
  {
   "cell_type": "code",
   "execution_count": 3,
   "metadata": {},
   "outputs": [],
   "source": [
    "df = pd.read_parquet(\"profiles/booker_details/part-00000-926fa82c-54d5-43d5-bf50-da8569a2dfb9-c000.snappy.parquet\")"
   ]
  },
  {
   "cell_type": "code",
   "execution_count": 4,
   "metadata": {},
   "outputs": [
    {
     "data": {
      "text/plain": [
       "0     2769\n",
       "1     6535\n",
       "2     6807\n",
       "3    18353\n",
       "4    20348\n",
       "Name: PersonID, dtype: int64"
      ]
     },
     "execution_count": 4,
     "metadata": {},
     "output_type": "execute_result"
    }
   ],
   "source": [
    "df[\"PersonID\"].head(5)"
   ]
  },
  {
   "cell_type": "code",
   "execution_count": 6,
   "metadata": {},
   "outputs": [],
   "source": [
    "personid = 2769"
   ]
  },
  {
   "cell_type": "code",
   "execution_count": 10,
   "metadata": {},
   "outputs": [
    {
     "data": {
      "text/plain": [
       "Index(['PersonID', 'BookerFirstName', 'BookerLastName', 'BookerEmailAddress',\n",
       "       'BookerMobile', 'TotalRevenue', 'BookerType', 'BookerCity',\n",
       "       'LatestDate', 'FirstDate',\n",
       "       ...\n",
       "       'AgeRange_separator_1_to_10', 'AgeRange_separator_41_to_50',\n",
       "       'AgeRange_separator_51_to_60', 'AgeRange_separator_91_to_100',\n",
       "       'AgeRange_separator_21_to_30', 'AgeRange_separator_31_to_40',\n",
       "       'TravelOrigin', 'TravelDestination', 'TravelSeat', 'Details'],\n",
       "      dtype='object', length=114)"
      ]
     },
     "execution_count": 10,
     "metadata": {},
     "output_type": "execute_result"
    }
   ],
   "source": [
    "df.columns"
   ]
  },
  {
   "cell_type": "code",
   "execution_count": 8,
   "metadata": {},
   "outputs": [],
   "source": [
    "conn.execute(f\"DROP TABLE IF EXISTS cdp_booker_{personid}\")\n",
    "conn.execute(f\"CREATE TEMPORARY TABLE cdp_booker_{personid} AS SELECT * FROM read_parquet('profiles/booker_details/*.parquet') WHERE personid ='{personid}'\")\n",
    "booker_df = conn.execute(f\"SELECT * FROM cdp_booker_{personid}\").df()\n",
    "booker_dict = booker_df.to_dict()"
   ]
  },
  {
   "cell_type": "code",
   "execution_count": 9,
   "metadata": {},
   "outputs": [],
   "source": [
    "with open('booker.json','w') as file:\n",
    "    json.dump(booker_dict,file)"
   ]
  },
  {
   "cell_type": "code",
   "execution_count": 2,
   "metadata": {},
   "outputs": [
    {
     "name": "stdout",
     "output_type": "stream",
     "text": [
      "26\n"
     ]
    }
   ],
   "source": [
    "print(len(\"TravelInsurance_separator_\"))"
   ]
  },
  {
   "cell_type": "code",
   "execution_count": 2,
   "metadata": {},
   "outputs": [],
   "source": [
    "data = {\"Details\": {\n",
    "        \"0\": {\n",
    "            \"insurance\": \"None\",\n",
    "            \"revenue\": \"2304.92\",\n",
    "            \"baggage\": \"None\",\n",
    "            \"record_locator\": \"T84SRV\",\n",
    "            \"booking_date\": \"2016-06-16\",\n",
    "            \"origin\": \"MNL\",\n",
    "            \"destination\": \"KLO_MNL\",\n",
    "            \"travel_date\": \"2016-07-11\",\n",
    "            \"meals\": \"None\"\n",
    "        },\n",
    "        \"1\": {\n",
    "            \"insurance\": \"None\",\n",
    "            \"revenue\": \"1575.36\",\n",
    "            \"baggage\": \"None\",\n",
    "            \"record_locator\": \"MDFIHQ\",\n",
    "            \"booking_date\": \"2015-10-22\",\n",
    "            \"origin\": \"MNL\",\n",
    "            \"destination\": \"MPH\",\n",
    "            \"travel_date\": \"2015-11-21\",\n",
    "            \"meals\": \"None\"\n",
    "        }\n",
    "    }\n",
    "}"
   ]
  },
  {
   "cell_type": "code",
   "execution_count": 9,
   "metadata": {},
   "outputs": [],
   "source": [
    "for i, k in data[\"Details\"].items():\n",
    "    k[\"revenue\"] = round(float(k[\"revenue\"]))"
   ]
  },
  {
   "cell_type": "code",
   "execution_count": 10,
   "metadata": {},
   "outputs": [
    {
     "name": "stdout",
     "output_type": "stream",
     "text": [
      "0\n",
      "1\n"
     ]
    }
   ],
   "source": [
    "for record_id in data[\"Details\"]:\n",
    "    print(record_id)"
   ]
  },
  {
   "cell_type": "code",
   "execution_count": 11,
   "metadata": {},
   "outputs": [
    {
     "name": "stdout",
     "output_type": "stream",
     "text": [
      "Content inside 0:\n",
      "insurance: None\n",
      "revenue: 2305\n",
      "baggage: None\n",
      "record_locator: T84SRV\n",
      "booking_date: 2016-06-16\n",
      "origin: MNL\n",
      "destination: KLO_MNL\n",
      "travel_date: 2016-07-11\n",
      "meals: None\n",
      "\n",
      "Content inside 1:\n",
      "insurance: None\n",
      "revenue: 1575\n",
      "baggage: None\n",
      "record_locator: MDFIHQ\n",
      "booking_date: 2015-10-22\n",
      "origin: MNL\n",
      "destination: MPH\n",
      "travel_date: 2015-11-21\n",
      "meals: None\n",
      "\n"
     ]
    }
   ],
   "source": [
    "for record_id, details in data[\"Details\"].items():\n",
    "    print(f\"Content inside {record_id}:\")\n",
    "    for key, value in details.items():\n",
    "        print(f\"{key}: {value}\")\n",
    "    print()"
   ]
  },
  {
   "cell_type": "code",
   "execution_count": null,
   "metadata": {},
   "outputs": [],
   "source": []
  }
 ],
 "metadata": {
  "kernelspec": {
   "display_name": "Python 3",
   "language": "python",
   "name": "python3"
  },
  "language_info": {
   "codemirror_mode": {
    "name": "ipython",
    "version": 3
   },
   "file_extension": ".py",
   "mimetype": "text/x-python",
   "name": "python",
   "nbconvert_exporter": "python",
   "pygments_lexer": "ipython3",
   "version": "3.11.5"
  },
  "orig_nbformat": 4
 },
 "nbformat": 4,
 "nbformat_minor": 2
}
